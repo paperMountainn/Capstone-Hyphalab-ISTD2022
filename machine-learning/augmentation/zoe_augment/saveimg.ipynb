{
 "cells": [
  {
   "cell_type": "code",
   "execution_count": 1,
   "metadata": {},
   "outputs": [],
   "source": [
    "import cv2\n",
    "import uuid\n",
    "import os"
   ]
  },
  {
   "cell_type": "code",
   "execution_count": 8,
   "metadata": {},
   "outputs": [
    {
     "name": "stdout",
     "output_type": "stream",
     "text": [
      "contam_images\n",
      "contam_augmented/save1\n"
     ]
    }
   ],
   "source": [
    "IMAGES_PATH_SAVE = os.path.join('contam_augmented', 'save1')\n",
    "IMAGES_PATH = os.path.join('contam_images')\n",
    "print(IMAGES_PATH)\n",
    "print(IMAGES_PATH_SAVE)"
   ]
  },
  {
   "cell_type": "code",
   "execution_count": 13,
   "metadata": {},
   "outputs": [],
   "source": [
    "def load_images_from_folder(folder):\n",
    "    images = []\n",
    "    for filename in os.listdir(folder):\n",
    "        img = cv2.imread(os.path.join(folder,filename))\n",
    "        if img is not None:\n",
    "            images.append(img)\n",
    "    return images\n",
    "images_read = load_images_from_folder(IMAGES_PATH)\n",
    "\n",
    "def augment_image(image):\n",
    "    image_augmented = cv2.cvtColor(image, cv2.COLOR_BGR2GRAY)\n",
    "    return image_augmented\n",
    "\n",
    "for image in images_read:\n",
    "    image_to_save = augment_image(image)\n",
    "    image_name = os.path.join(IMAGES_PATH_SAVE,'f{}.jpg'.format(str(uuid.uuid1())))\n",
    "    cv2.imwrite(image_name, image_to_save)\n",
    "\n",
    "\n"
   ]
  },
  {
   "cell_type": "code",
   "execution_count": null,
   "metadata": {},
   "outputs": [],
   "source": []
  }
 ],
 "metadata": {
  "interpreter": {
   "hash": "c8300f6636ad92775735732dd63faa3f6d53954a88a266c120b30fb2cc53defb"
  },
  "kernelspec": {
   "display_name": "Python 3.9.10 ('data-science')",
   "language": "python",
   "name": "python3"
  },
  "language_info": {
   "codemirror_mode": {
    "name": "ipython",
    "version": 3
   },
   "file_extension": ".py",
   "mimetype": "text/x-python",
   "name": "python",
   "nbconvert_exporter": "python",
   "pygments_lexer": "ipython3",
   "version": "3.9.10"
  },
  "orig_nbformat": 4
 },
 "nbformat": 4,
 "nbformat_minor": 2
}
