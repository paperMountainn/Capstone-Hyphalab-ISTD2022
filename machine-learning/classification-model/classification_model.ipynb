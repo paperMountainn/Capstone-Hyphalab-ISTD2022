{
 "cells": [
  {
   "cell_type": "markdown",
   "metadata": {},
   "source": [
    "### Test the following classification with CIFAR100\n",
    "\n",
    "1. Basic NN model with flattened image\n",
    "2. Basic CNN model\n",
    "    - different ConvNets: Transfer learning with ImageNet, InceptionNet, Resnet\n",
    "    - use CDN labs for CNN, Pytorch tutorial that you used before\n",
    "### Evaluation Metrics\n",
    "Accuracy, f1 scores, mAP, ROC-AUC"
   ]
  },
  {
   "cell_type": "markdown",
   "metadata": {},
   "source": [
    "### Basic NN model with Pytorch"
   ]
  },
  {
   "cell_type": "code",
   "execution_count": 102,
   "metadata": {},
   "outputs": [],
   "source": [
    "import torch\n",
    "import torchvision\n",
    "import numpy as np\n",
    "import matplotlib\n",
    "import matplotlib.pyplot as plt\n",
    "import torch.nn as nn\n",
    "import torch.nn.functional as F\n",
    "from torchvision.datasets import CIFAR10 # provide standard datasets, transformations to convert images into tensors as well\n",
    "\n",
    "from torchvision.transforms import ToTensor \n",
    "from torchvision.utils import make_grid\n",
    "from torch.utils.data.dataloader import DataLoader # create batches of data for batch gradient descent\n",
    "from torch.utils.data import random_split\n",
    "%matplotlib inline\n",
    "\n",
    "# Use a white background for matplotlib figures\n",
    "matplotlib.rcParams['figure.facecolor'] = '#ffffff'"
   ]
  },
  {
   "cell_type": "code",
   "execution_count": 6,
   "metadata": {},
   "outputs": [
    {
     "name": "stdout",
     "output_type": "stream",
     "text": [
      "Downloading https://www.cs.toronto.edu/~kriz/cifar-10-python.tar.gz to data/cifar-10-python.tar.gz\n"
     ]
    },
    {
     "name": "stderr",
     "output_type": "stream",
     "text": [
      "170499072it [00:21, 7956454.97it/s]                                \n"
     ]
    },
    {
     "name": "stdout",
     "output_type": "stream",
     "text": [
      "Extracting data/cifar-10-python.tar.gz to data/\n"
     ]
    }
   ],
   "source": [
    "# take jpg files and convert them into pytorch tensors\n",
    "dataset = CIFAR10(root='data/', download=True, transform=ToTensor())"
   ]
  },
  {
   "cell_type": "code",
   "execution_count": 7,
   "metadata": {},
   "outputs": [
    {
     "data": {
      "text/plain": [
       "torch.Size([3, 32, 32])"
      ]
     },
     "execution_count": 7,
     "metadata": {},
     "output_type": "execute_result"
    }
   ],
   "source": [
    "img, label = dataset[0]\n",
    "img.shape"
   ]
  },
  {
   "cell_type": "code",
   "execution_count": 9,
   "metadata": {},
   "outputs": [
    {
     "name": "stdout",
     "output_type": "stream",
     "text": [
      "image.shape: torch.Size([3, 32, 32])\n",
      "Label: 9\n"
     ]
    },
    {
     "data": {
      "image/png": "[encoded data removed]",
      "text/plain": [
       "<Figure size 432x288 with 1 Axes>"
      ]
     },
     "metadata": {},
     "output_type": "display_data"
    }
   ],
   "source": [
    "image, label = dataset[2]\n",
    "print('image.shape:', image.shape)\n",
    "plt.imshow(image.permute(1, 2, 0), cmap='gray')\n",
    "print('Label:', label)"
   ]
  },
  {
   "cell_type": "markdown",
   "metadata": {},
   "source": [
    "## Prepare data into training and validation set"
   ]
  },
  {
   "cell_type": "markdown",
   "metadata": {},
   "source": [
    "Next, let's use the `random_split` helper function to set aside 10000 images for our validation set."
   ]
  },
  {
   "cell_type": "code",
   "execution_count": 14,
   "metadata": {},
   "outputs": [
    {
     "data": {
      "text/plain": [
       "(40000, 10000)"
      ]
     },
     "execution_count": 14,
     "metadata": {},
     "output_type": "execute_result"
    }
   ],
   "source": [
    "val_size = 10000\n",
    "train_size = len(dataset) - val_size\n",
    "\n",
    "batch_size=128\n",
    "# make it as large as possible while it is still making the training faster\n",
    "# matrix operations can still be slow -> start with 32, 64, and doubling it to make training faster \n",
    "\n",
    "\n",
    "# random_split because if you don't, the last 20% will only have 8 and 9s, causing the model to be unfair\n",
    "train_ds, val_ds = random_split(dataset, [train_size, val_size])\n",
    "len(train_ds), len(val_ds)"
   ]
  },
  {
   "cell_type": "markdown",
   "metadata": {},
   "source": [
    "## dataloaders\n",
    "* create iterable dataloaders"
   ]
  },
  {
   "cell_type": "code",
   "execution_count": 15,
   "metadata": {},
   "outputs": [],
   "source": [
    "train_loader = DataLoader(train_ds, \n",
    "                          batch_size, \n",
    "                          shuffle=True, \n",
    "                          num_workers=4, \n",
    "                          pin_memory=True)\n",
    "\n",
    "# shuffle=True : training algo works better when you are randomising batches everytime, avoid biases\n",
    "val_loader = DataLoader(val_ds, \n",
    "                        batch_size*2, \n",
    "                        num_workers=4, \n",
    "                        pin_memory=True)\n",
    "\n",
    "# alternatively, use the indices method as stated in the video, but this is better"
   ]
  },
  {
   "cell_type": "markdown",
   "metadata": {},
   "source": [
    "### Model\n",
    "* create nn with 1 single layer"
   ]
  },
  {
   "cell_type": "code",
   "execution_count": 18,
   "metadata": {},
   "outputs": [
    {
     "name": "stdout",
     "output_type": "stream",
     "text": [
      "images.shape: torch.Size([128, 3, 32, 32])\n",
      "inputs.shape: torch.Size([128, 3072])\n"
     ]
    }
   ],
   "source": [
    "for images, labels in train_loader:\n",
    "    print('images.shape:', images.shape)\n",
    "    # flattened image\n",
    "    inputs = images.reshape(-1, 3072)\n",
    "    print('inputs.shape:', inputs.shape)\n",
    "    break"
   ]
  },
  {
   "cell_type": "code",
   "execution_count": 24,
   "metadata": {},
   "outputs": [
    {
     "name": "stdout",
     "output_type": "stream",
     "text": [
      "torch.Size([32, 3072])\n",
      "torch.Size([32])\n"
     ]
    }
   ],
   "source": [
    "input_size = inputs.shape[-1]\n",
    "hidden_size = 32\n",
    "\n",
    "# create linear layer to test, naive linear layer\n",
    "layer1 = nn.Linear(input_size, hidden_size)\n",
    "# list(layer1.parameters())\n",
    "print(layer1.weight.shape)\n",
    "print(layer1.bias.shape)"
   ]
  },
  {
   "cell_type": "code",
   "execution_count": 36,
   "metadata": {},
   "outputs": [
    {
     "name": "stdout",
     "output_type": "stream",
     "text": [
      "torch.Size([128, 3, 32, 32])\n",
      "torch.Size([128, 3072])\n"
     ]
    }
   ],
   "source": [
    "for xb, yb in train_loader:\n",
    "    print(xb.shape)\n",
    "    # .view is same as reshape\n",
    "    # make the size generic (as our images can be different shapes)\n",
    "    # -1 => pytorch calculates it (you want 128*x, which x = 784)\n",
    "\n",
    "    # flatten it!\n",
    "    xb = xb.view(xb.size(0), -1) # xb.size(0) == 100 in this context\n",
    "    print(xb.shape)\n",
    "    break"
   ]
  },
  {
   "cell_type": "code",
   "execution_count": 105,
   "metadata": {},
   "outputs": [],
   "source": [
    "import torch.nn.functional as F\n",
    "import torch.nn as nn\n",
    "\n",
    "class ContamModel(nn.Module):\n",
    "    \"\"\"Feedfoward neural network with 1 hidden layer\"\"\"\n",
    "    def __init__(self, in_size, hidden_size, out_size):\n",
    "        super().__init__() \n",
    "        # hidden layer\n",
    "        self.linear1 = nn.Linear(in_size, hidden_size)\n",
    "        # output layer\n",
    "        self.linear2 = nn.Linear(hidden_size, out_size)\n",
    "        \n",
    "    def forward(self, xb):\n",
    "        # Flatten the image tensors\n",
    "        xb = xb.view(xb.size(0), -1)\n",
    "        # Get intermediate outputs using hidden layer\n",
    "        out = self.linear1(xb)\n",
    "        # Apply activation function\n",
    "        out = F.relu(out)\n",
    "        # Get predictions using output layer\n",
    "        out = self.linear2(out)\n",
    "        return out\n",
    "    \n",
    "    def training_step(self, batch):\n",
    "        images, labels = batch \n",
    "        out = self(images)                  # Generate predictions\n",
    "        loss = F.cross_entropy(out, labels) # Calculate loss\n",
    "        return loss\n",
    "    \n",
    "    def validation_step(self, batch):\n",
    "        images, labels = batch \n",
    "        out = self(images)                    # Generate predictions\n",
    "        loss = F.cross_entropy(out, labels)   # Calculate loss\n",
    "        acc = accuracy(out, labels)           # Calculate accuracy\n",
    "        return {'val_loss': loss, 'val_acc': acc}\n",
    "        \n",
    "    def validation_epoch_end(self, outputs):\n",
    "        batch_losses = [x['val_loss'] for x in outputs]\n",
    "        epoch_loss = torch.stack(batch_losses).mean()   # Combine losses\n",
    "        batch_accs = [x['val_acc'] for x in outputs]\n",
    "        epoch_acc = torch.stack(batch_accs).mean()      # Combine accuracies\n",
    "        return {'val_loss': epoch_loss.item(), 'val_acc': epoch_acc.item()}\n",
    "    \n",
    "    def epoch_end(self, epoch, result):\n",
    "        print(\"Epoch [{}], val_loss: {:.4f}, val_acc: {:.4f}\".format(epoch, result['val_loss'], result['val_acc']))\n",
    "\n",
    "# define accuracy function\n",
    "def accuracy(outputs, labels):\n",
    "    _, preds = torch.max(outputs, dim=1)\n",
    "    return torch.tensor(torch.sum(preds == labels).item() / len(preds))"
   ]
  },
  {
   "cell_type": "code",
   "execution_count": 107,
   "metadata": {},
   "outputs": [],
   "source": [
    "input_size = 3072\n",
    "hidden_size = 128 # you can change this\n",
    "num_classes = 10 # because its CIFAR10 with 10 classes\n",
    "\n",
    "# init model object\n",
    "model = ContamModel(input_size, hidden_size=hidden_size, out_size=num_classes)"
   ]
  },
  {
   "cell_type": "code",
   "execution_count": 108,
   "metadata": {},
   "outputs": [
    {
     "data": {
      "text/plain": [
       "ContamModel(\n",
       "  (linear1): Linear(in_features=3072, out_features=128, bias=True)\n",
       "  (linear2): Linear(in_features=128, out_features=10, bias=True)\n",
       ")"
      ]
     },
     "execution_count": 108,
     "metadata": {},
     "output_type": "execute_result"
    }
   ],
   "source": [
    "model"
   ]
  },
  {
   "cell_type": "code",
   "execution_count": 103,
   "metadata": {},
   "outputs": [
    {
     "name": "stdout",
     "output_type": "stream",
     "text": [
      "Loss: 2.3226799964904785\n",
      "outputs.shape :  torch.Size([128, 10])\n",
      "Sample outputs :\n",
      " tensor([[ 0.3021, -0.0936,  0.0379,  0.0334,  0.1431, -0.0168, -0.0165, -0.2107,\n",
      "          0.0592,  0.1760],\n",
      "        [ 0.2251, -0.0732, -0.0439,  0.0801,  0.1989, -0.0775,  0.0045, -0.1752,\n",
      "         -0.0584,  0.2039]])\n",
      "Softmax sample outputs :\n",
      " tensor([0.1286, 0.0866, 0.0987, 0.0983, 0.1097, 0.0935, 0.0935, 0.0770, 0.1009,\n",
      "        0.1133], grad_fn=<SelectBackward0>)\n",
      "Softmax sample summed :\n",
      " tensor(1.0000, grad_fn=<SumBackward0>)\n"
     ]
    },
    {
     "name": "stderr",
     "output_type": "stream",
     "text": [
      "/var/folders/33/lggb1gw96zb0tpc81z2n9yd40000gn/T/ipykernel_72464/235336798.py:9: UserWarning: Implicit dimension choice for softmax has been deprecated. Change the call to include dim=X as an argument.\n",
      "  print('Softmax sample outputs :\\n', F.softmax(outputs)[0])\n",
      "/var/folders/33/lggb1gw96zb0tpc81z2n9yd40000gn/T/ipykernel_72464/235336798.py:10: UserWarning: Implicit dimension choice for softmax has been deprecated. Change the call to include dim=X as an argument.\n",
      "  print('Softmax sample summed :\\n', torch.sum(F.softmax(outputs)[0]))\n"
     ]
    }
   ],
   "source": [
    "for images, labels in train_loader:\n",
    "    outputs = model(images)\n",
    "    loss = F.cross_entropy(outputs, labels)\n",
    "    print('Loss:', loss.item())\n",
    "    break\n",
    "\n",
    "print('outputs.shape : ', outputs.shape)\n",
    "print('Sample outputs :\\n', outputs[:2].data)\n",
    "print('Softmax sample outputs :\\n', F.softmax(outputs)[0])\n",
    "print('Softmax sample summed :\\n', torch.sum(F.softmax(outputs)[0]))"
   ]
  },
  {
   "cell_type": "code",
   "execution_count": 53,
   "metadata": {},
   "outputs": [
    {
     "name": "stdout",
     "output_type": "stream",
     "text": [
      "False\n"
     ]
    }
   ],
   "source": [
    "print(torch.cuda.is_available())\n",
    "\n",
    "# create a device\n",
    "def get_default_device():\n",
    "    \"\"\"Pick GPU if available, else CPU\"\"\"\n",
    "    if torch.cuda.is_available():\n",
    "        return torch.device('cuda')\n",
    "    else:\n",
    "        return torch.device('cpu')\n",
    "device = get_default_device()\n",
    "device\n",
    "\n",
    "# move data to device\n",
    "# move data to device\n",
    "def to_device(data, device):\n",
    "    \"\"\"Move tensor(s) to chosen device\"\"\"\n",
    "    if isinstance(data, (list,tuple)):\n",
    "        return [to_device(x, device) for x in data]\n",
    "    return data.to(device, non_blocking=True)\n",
    "\n",
    "\n",
    "# DeviceDataLoader to wrap existing loaders \n",
    "# move batch of data to selected device\n",
    "# don't need to extend existing class to create \n",
    "class DeviceDataLoader():\n",
    "    \"\"\"Wrap a dataloader to move data to a device\"\"\"\n",
    "    # constructor\n",
    "    def __init__(self, dl, device):\n",
    "        self.dl = dl\n",
    "        self.device = device\n",
    "        \n",
    "    # for loop\n",
    "    def __iter__(self):\n",
    "        \"\"\"Yield a batch of data after moving it to device\"\"\"\n",
    "        for b in self.dl: \n",
    "            # returning something, without stopping the program, \"return\" \n",
    "            yield to_device(b, self.device)\n",
    "\n",
    "    # return number of batches\n",
    "    def __len__(self):\n",
    "        \"\"\"Number of batches\"\"\"\n",
    "        return len(self.dl)"
   ]
  },
  {
   "cell_type": "code",
   "execution_count": 54,
   "metadata": {},
   "outputs": [],
   "source": [
    "train_loader = DeviceDataLoader(train_loader, device)\n",
    "val_loader = DeviceDataLoader(val_loader, device)"
   ]
  },
  {
   "cell_type": "code",
   "execution_count": 60,
   "metadata": {},
   "outputs": [
    {
     "data": {
      "text/plain": [
       "[{'val_loss': 2.307886838912964, 'val_acc': 0.09951172024011612}]"
      ]
     },
     "execution_count": 60,
     "metadata": {},
     "output_type": "execute_result"
    }
   ],
   "source": [
    "### model training\n",
    "def evaluate(model, val_loader):\n",
    "    \"\"\"Evaluate the model's performance on the validation set\"\"\"\n",
    "    outputs = [model.validation_step(batch) for batch in val_loader]\n",
    "    return model.validation_epoch_end(outputs)\n",
    "\n",
    "def fit(epochs, lr, model, train_loader, val_loader, opt_func=torch.optim.SGD):\n",
    "    \"\"\"Train the model using gradient descent\"\"\"\n",
    "    history = []\n",
    "    optimizer = opt_func(model.parameters(), lr)\n",
    "    for epoch in range(epochs):\n",
    "        # Training Phase \n",
    "        for batch in train_loader:\n",
    "            loss = model.training_step(batch)\n",
    "            loss.backward()\n",
    "            optimizer.step()\n",
    "            optimizer.zero_grad()\n",
    "        # Validation phase\n",
    "        result = evaluate(model, val_loader)\n",
    "        model.epoch_end(epoch, result)\n",
    "        history.append(result)\n",
    "    return history\n",
    "\n",
    "# load model onto GPU\n",
    "# Model (on GPU)\n",
    "model = ContamModel(input_size, hidden_size=hidden_size, out_size=num_classes)\n",
    "to_device(model, device)\n",
    "\n",
    "# initial evaluation before training\n",
    "history = [evaluate(model, val_loader)]\n"
   ]
  },
  {
   "cell_type": "code",
   "execution_count": 73,
   "metadata": {},
   "outputs": [
    {
     "name": "stdout",
     "output_type": "stream",
     "text": [
      "Epoch [0], val_loss: 1.7514, val_acc: 0.3869\n",
      "Epoch [1], val_loss: 1.5933, val_acc: 0.4478\n",
      "Epoch [2], val_loss: 1.5773, val_acc: 0.4463\n",
      "Epoch [3], val_loss: 1.5548, val_acc: 0.4592\n",
      "Epoch [4], val_loss: 1.6645, val_acc: 0.4188\n",
      "Epoch [5], val_loss: 1.6877, val_acc: 0.4201\n",
      "Epoch [6], val_loss: 1.5488, val_acc: 0.4567\n",
      "Epoch [7], val_loss: 1.6533, val_acc: 0.4282\n",
      "Epoch [8], val_loss: 1.5392, val_acc: 0.4608\n",
      "Epoch [9], val_loss: 1.6996, val_acc: 0.4057\n",
      "305.28036800000007\n"
     ]
    }
   ],
   "source": [
    "import time\n",
    "start = time.process_time()\n",
    "# your code here    \n",
    "history += fit(10, 0.1, model, train_loader, val_loader)\n",
    "print(time.process_time() - start)\n"
   ]
  },
  {
   "cell_type": "markdown",
   "metadata": {},
   "source": [
    "###"
   ]
  },
  {
   "cell_type": "code",
   "execution_count": 77,
   "metadata": {},
   "outputs": [],
   "source": [
    "# save model\n",
    "torch.save(model.state_dict(), 'models_trained/cifar10-feedforward.pth')"
   ]
  },
  {
   "cell_type": "markdown",
   "metadata": {},
   "source": [
    "### Predict"
   ]
  },
  {
   "cell_type": "code",
   "execution_count": 64,
   "metadata": {},
   "outputs": [],
   "source": [
    "# Define test dataset\n",
    "test_dataset = CIFAR10(root='data/', \n",
    "                     train=False,\n",
    "                     transform=ToTensor())"
   ]
  },
  {
   "cell_type": "code",
   "execution_count": 65,
   "metadata": {},
   "outputs": [],
   "source": [
    "def predict_image(img, model):\n",
    "    xb = to_device(img.unsqueeze(0), device)\n",
    "    yb = model(xb)\n",
    "    _, preds  = torch.max(yb, dim=1)\n",
    "    return preds[0].item()"
   ]
  },
  {
   "cell_type": "code",
   "execution_count": 75,
   "metadata": {},
   "outputs": [
    {
     "name": "stdout",
     "output_type": "stream",
     "text": [
      "Label: 3 , Predicted: 3\n"
     ]
    },
    {
     "data": {
      "image/png": "[encoded data removed]",
      "text/plain": [
       "<Figure size 432x288 with 1 Axes>"
      ]
     },
     "metadata": {},
     "output_type": "display_data"
    }
   ],
   "source": [
    "img, label = test_dataset[0]\n",
    "# plt.imshow(img[0])\n",
    "plt.imshow(img.permute(1, 2, 0), cmap='gray')\n",
    "print('Label:', label, ', Predicted:', predict_image(img, model))"
   ]
  },
  {
   "cell_type": "code",
   "execution_count": 72,
   "metadata": {},
   "outputs": [
    {
     "name": "stdout",
     "output_type": "stream",
     "text": [
      "Label: 1 , Predicted: 3\n"
     ]
    },
    {
     "data": {
      "image/png": "[encoded data removed]",
      "text/plain": [
       "<Figure size 432x288 with 1 Axes>"
      ]
     },
     "metadata": {},
     "output_type": "display_data"
    }
   ],
   "source": [
    "img, label = test_dataset[193]\n",
    "# plt.imshow(img[0])\n",
    "plt.imshow(img.permute(1, 2, 0), cmap='gray')\n",
    "print('Label:', label, ', Predicted:', predict_image(img, model))"
   ]
  },
  {
   "cell_type": "code",
   "execution_count": 71,
   "metadata": {},
   "outputs": [
    {
     "name": "stdout",
     "output_type": "stream",
     "text": [
      "Label: 1 , Predicted: 3\n"
     ]
    },
    {
     "data": {
      "image/png": "[encoded data removed]",
      "text/plain": [
       "<Figure size 432x288 with 1 Axes>"
      ]
     },
     "metadata": {},
     "output_type": "display_data"
    }
   ],
   "source": [
    "img, label = test_dataset[193]\n",
    "plt.imshow(img[0], cmap='gray')\n",
    "print('Label:', label, ', Predicted:', predict_image(img, model))"
   ]
  },
  {
   "cell_type": "markdown",
   "metadata": {},
   "source": [
    "### f1 score"
   ]
  },
  {
   "cell_type": "code",
   "execution_count": 100,
   "metadata": {},
   "outputs": [
    {
     "ename": "AttributeError",
     "evalue": "",
     "output_type": "error",
     "traceback": [
      "\u001b[0;31m---------------------------------------------------------------------------\u001b[0m",
      "\u001b[0;31mAttributeError\u001b[0m                            Traceback (most recent call last)",
      "\u001b[1;32m/Users/zishanpan/Desktop/capstone-code/machine-learning/classification-model/classification_model.ipynb Cell 32'\u001b[0m in \u001b[0;36m<module>\u001b[0;34m\u001b[0m\n\u001b[1;32m      <a href='vscode-notebook-cell:/Users/zishanpan/Desktop/capstone-code/machine-learning/classification-model/classification_model.ipynb#ch0000061?line=5'>6</a>\u001b[0m y \u001b[39m=\u001b[39m test_dataset\u001b[39m.\u001b[39mtargets\n\u001b[1;32m      <a href='vscode-notebook-cell:/Users/zishanpan/Desktop/capstone-code/machine-learning/classification-model/classification_model.ipynb#ch0000061?line=6'>7</a>\u001b[0m \u001b[39m# y_targ = to_device(y, device)\u001b[39;00m\n\u001b[0;32m---> <a href='vscode-notebook-cell:/Users/zishanpan/Desktop/capstone-code/machine-learning/classification-model/classification_model.ipynb#ch0000061?line=9'>10</a>\u001b[0m Y_pred \u001b[39m=\u001b[39m model(test_dataset)\n\u001b[1;32m     <a href='vscode-notebook-cell:/Users/zishanpan/Desktop/capstone-code/machine-learning/classification-model/classification_model.ipynb#ch0000061?line=10'>11</a>\u001b[0m _, preds  \u001b[39m=\u001b[39m torch\u001b[39m.\u001b[39mmax(Y_pred, dim\u001b[39m=\u001b[39m\u001b[39m1\u001b[39m)\n\u001b[1;32m     <a href='vscode-notebook-cell:/Users/zishanpan/Desktop/capstone-code/machine-learning/classification-model/classification_model.ipynb#ch0000061?line=12'>13</a>\u001b[0m f1_score \u001b[39m=\u001b[39m f1_score(y, preds)\n",
      "File \u001b[0;32m/usr/local/Caskroom/miniforge/base/envs/data-science/lib/python3.9/site-packages/torch/nn/modules/module.py:1102\u001b[0m, in \u001b[0;36mModule._call_impl\u001b[0;34m(self, *input, **kwargs)\u001b[0m\n\u001b[1;32m   <a href='file:///usr/local/Caskroom/miniforge/base/envs/data-science/lib/python3.9/site-packages/torch/nn/modules/module.py?line=1097'>1098</a>\u001b[0m \u001b[39m# If we don't have any hooks, we want to skip the rest of the logic in\u001b[39;00m\n\u001b[1;32m   <a href='file:///usr/local/Caskroom/miniforge/base/envs/data-science/lib/python3.9/site-packages/torch/nn/modules/module.py?line=1098'>1099</a>\u001b[0m \u001b[39m# this function, and just call forward.\u001b[39;00m\n\u001b[1;32m   <a href='file:///usr/local/Caskroom/miniforge/base/envs/data-science/lib/python3.9/site-packages/torch/nn/modules/module.py?line=1099'>1100</a>\u001b[0m \u001b[39mif\u001b[39;00m \u001b[39mnot\u001b[39;00m (\u001b[39mself\u001b[39m\u001b[39m.\u001b[39m_backward_hooks \u001b[39mor\u001b[39;00m \u001b[39mself\u001b[39m\u001b[39m.\u001b[39m_forward_hooks \u001b[39mor\u001b[39;00m \u001b[39mself\u001b[39m\u001b[39m.\u001b[39m_forward_pre_hooks \u001b[39mor\u001b[39;00m _global_backward_hooks\n\u001b[1;32m   <a href='file:///usr/local/Caskroom/miniforge/base/envs/data-science/lib/python3.9/site-packages/torch/nn/modules/module.py?line=1100'>1101</a>\u001b[0m         \u001b[39mor\u001b[39;00m _global_forward_hooks \u001b[39mor\u001b[39;00m _global_forward_pre_hooks):\n\u001b[0;32m-> <a href='file:///usr/local/Caskroom/miniforge/base/envs/data-science/lib/python3.9/site-packages/torch/nn/modules/module.py?line=1101'>1102</a>\u001b[0m     \u001b[39mreturn\u001b[39;00m forward_call(\u001b[39m*\u001b[39;49m\u001b[39minput\u001b[39;49m, \u001b[39m*\u001b[39;49m\u001b[39m*\u001b[39;49mkwargs)\n\u001b[1;32m   <a href='file:///usr/local/Caskroom/miniforge/base/envs/data-science/lib/python3.9/site-packages/torch/nn/modules/module.py?line=1102'>1103</a>\u001b[0m \u001b[39m# Do not call functions when jit is used\u001b[39;00m\n\u001b[1;32m   <a href='file:///usr/local/Caskroom/miniforge/base/envs/data-science/lib/python3.9/site-packages/torch/nn/modules/module.py?line=1103'>1104</a>\u001b[0m full_backward_hooks, non_full_backward_hooks \u001b[39m=\u001b[39m [], []\n",
      "\u001b[1;32m/Users/zishanpan/Desktop/capstone-code/machine-learning/classification-model/classification_model.ipynb Cell 16'\u001b[0m in \u001b[0;36mCIFAR10Model.forward\u001b[0;34m(self, xb)\u001b[0m\n\u001b[1;32m     <a href='vscode-notebook-cell:/Users/zishanpan/Desktop/capstone-code/machine-learning/classification-model/classification_model.ipynb#ch0000040?line=12'>13</a>\u001b[0m \u001b[39mdef\u001b[39;00m \u001b[39mforward\u001b[39m(\u001b[39mself\u001b[39m, xb):\n\u001b[1;32m     <a href='vscode-notebook-cell:/Users/zishanpan/Desktop/capstone-code/machine-learning/classification-model/classification_model.ipynb#ch0000040?line=13'>14</a>\u001b[0m     \u001b[39m# Flatten the image tensors\u001b[39;00m\n\u001b[0;32m---> <a href='vscode-notebook-cell:/Users/zishanpan/Desktop/capstone-code/machine-learning/classification-model/classification_model.ipynb#ch0000040?line=14'>15</a>\u001b[0m     xb \u001b[39m=\u001b[39m xb\u001b[39m.\u001b[39;49mview(xb\u001b[39m.\u001b[39msize(\u001b[39m0\u001b[39m), \u001b[39m-\u001b[39m\u001b[39m1\u001b[39m)\n\u001b[1;32m     <a href='vscode-notebook-cell:/Users/zishanpan/Desktop/capstone-code/machine-learning/classification-model/classification_model.ipynb#ch0000040?line=15'>16</a>\u001b[0m     \u001b[39m# Get intermediate outputs using hidden layer\u001b[39;00m\n\u001b[1;32m     <a href='vscode-notebook-cell:/Users/zishanpan/Desktop/capstone-code/machine-learning/classification-model/classification_model.ipynb#ch0000040?line=16'>17</a>\u001b[0m     out \u001b[39m=\u001b[39m \u001b[39mself\u001b[39m\u001b[39m.\u001b[39mlinear1(xb)\n",
      "File \u001b[0;32m/usr/local/Caskroom/miniforge/base/envs/data-science/lib/python3.9/site-packages/torch/utils/data/dataset.py:83\u001b[0m, in \u001b[0;36mDataset.__getattr__\u001b[0;34m(self, attribute_name)\u001b[0m\n\u001b[1;32m     <a href='file:///usr/local/Caskroom/miniforge/base/envs/data-science/lib/python3.9/site-packages/torch/utils/data/dataset.py?line=80'>81</a>\u001b[0m     \u001b[39mreturn\u001b[39;00m function\n\u001b[1;32m     <a href='file:///usr/local/Caskroom/miniforge/base/envs/data-science/lib/python3.9/site-packages/torch/utils/data/dataset.py?line=81'>82</a>\u001b[0m \u001b[39melse\u001b[39;00m:\n\u001b[0;32m---> <a href='file:///usr/local/Caskroom/miniforge/base/envs/data-science/lib/python3.9/site-packages/torch/utils/data/dataset.py?line=82'>83</a>\u001b[0m     \u001b[39mraise\u001b[39;00m \u001b[39mAttributeError\u001b[39;00m\n",
      "\u001b[0;31mAttributeError\u001b[0m: "
     ]
    }
   ],
   "source": [
    "\n",
    "from sklearn.metrics import f1_score   \n",
    "test_dataset = CIFAR10(root='data/', \n",
    "                     train=False,\n",
    "                     transform=ToTensor())\n",
    "\n",
    "y = test_dataset.targets\n",
    "# y_targ = to_device(y, device)\n",
    "\n",
    "\n",
    "Y_pred = model(test_dataset)\n",
    "_, preds  = torch.max(Y_pred, dim=1)\n",
    "\n",
    "f1_score = f1_score(y, preds)\n",
    "# f1_score"
   ]
  },
  {
   "cell_type": "code",
   "execution_count": 110,
   "metadata": {},
   "outputs": [
    {
     "name": "stdout",
     "output_type": "stream",
     "text": [
      "----------------------------------------------------------------\n",
      "        Layer (type)               Output Shape         Param #\n",
      "================================================================\n",
      "            Linear-1                  [-1, 128]         393,344\n",
      "            Linear-2                   [-1, 10]           1,290\n",
      "================================================================\n",
      "Total params: 394,634\n",
      "Trainable params: 394,634\n",
      "Non-trainable params: 0\n",
      "----------------------------------------------------------------\n",
      "Input size (MB): 0.01\n",
      "Forward/backward pass size (MB): 0.00\n",
      "Params size (MB): 1.51\n",
      "Estimated Total Size (MB): 1.52\n",
      "----------------------------------------------------------------\n"
     ]
    }
   ],
   "source": [
    "from torchvision import models\n",
    "from torchsummary import summary\n",
    "summary(model, (3, 32, 32))"
   ]
  },
  {
   "cell_type": "code",
   "execution_count": null,
   "metadata": {},
   "outputs": [],
   "source": []
  }
 ],
 "metadata": {
  "interpreter": {
   "hash": "c8300f6636ad92775735732dd63faa3f6d53954a88a266c120b30fb2cc53defb"
  },
  "kernelspec": {
   "display_name": "Python 3.9.10 ('data-science')",
   "language": "python",
   "name": "python3"
  },
  "language_info": {
   "codemirror_mode": {
    "name": "ipython",
    "version": 3
   },
   "file_extension": ".py",
   "mimetype": "text/x-python",
   "name": "python",
   "nbconvert_exporter": "python",
   "pygments_lexer": "ipython3",
   "version": "3.9.10"
  },
  "orig_nbformat": 4
 },
 "nbformat": 4,
 "nbformat_minor": 2
}
